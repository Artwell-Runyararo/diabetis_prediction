{
 "cells": [
  {
   "cell_type": "code",
   "execution_count": 49,
   "id": "2e095c12-5518-43a5-9c85-4e03dddf3899",
   "metadata": {},
   "outputs": [],
   "source": [
    "import pandas as pd "
   ]
  },
  {
   "cell_type": "code",
   "execution_count": 50,
   "id": "a7b1c495-4422-4614-8b4f-0ee986310963",
   "metadata": {},
   "outputs": [],
   "source": [
    "import numpy as np"
   ]
  },
  {
   "cell_type": "code",
   "execution_count": 51,
   "id": "bea95aac-1a29-4110-8e0a-5a045f66ca02",
   "metadata": {},
   "outputs": [
    {
     "data": {
      "text/html": [
       "<div>\n",
       "<style scoped>\n",
       "    .dataframe tbody tr th:only-of-type {\n",
       "        vertical-align: middle;\n",
       "    }\n",
       "\n",
       "    .dataframe tbody tr th {\n",
       "        vertical-align: top;\n",
       "    }\n",
       "\n",
       "    .dataframe thead th {\n",
       "        text-align: right;\n",
       "    }\n",
       "</style>\n",
       "<table border=\"1\" class=\"dataframe\">\n",
       "  <thead>\n",
       "    <tr style=\"text-align: right;\">\n",
       "      <th></th>\n",
       "      <th>pregnancies</th>\n",
       "      <th>glucose</th>\n",
       "      <th>diastolic</th>\n",
       "      <th>triceps</th>\n",
       "      <th>insulin</th>\n",
       "      <th>bmi</th>\n",
       "      <th>dpf</th>\n",
       "      <th>age</th>\n",
       "      <th>diabetes</th>\n",
       "    </tr>\n",
       "  </thead>\n",
       "  <tbody>\n",
       "    <tr>\n",
       "      <th>0</th>\n",
       "      <td>6</td>\n",
       "      <td>148</td>\n",
       "      <td>72</td>\n",
       "      <td>35</td>\n",
       "      <td>0</td>\n",
       "      <td>33.6</td>\n",
       "      <td>0.627</td>\n",
       "      <td>50</td>\n",
       "      <td>1</td>\n",
       "    </tr>\n",
       "    <tr>\n",
       "      <th>1</th>\n",
       "      <td>1</td>\n",
       "      <td>85</td>\n",
       "      <td>66</td>\n",
       "      <td>29</td>\n",
       "      <td>0</td>\n",
       "      <td>26.6</td>\n",
       "      <td>0.351</td>\n",
       "      <td>31</td>\n",
       "      <td>0</td>\n",
       "    </tr>\n",
       "    <tr>\n",
       "      <th>2</th>\n",
       "      <td>8</td>\n",
       "      <td>183</td>\n",
       "      <td>64</td>\n",
       "      <td>0</td>\n",
       "      <td>0</td>\n",
       "      <td>23.3</td>\n",
       "      <td>0.672</td>\n",
       "      <td>32</td>\n",
       "      <td>1</td>\n",
       "    </tr>\n",
       "    <tr>\n",
       "      <th>3</th>\n",
       "      <td>1</td>\n",
       "      <td>89</td>\n",
       "      <td>66</td>\n",
       "      <td>23</td>\n",
       "      <td>94</td>\n",
       "      <td>28.1</td>\n",
       "      <td>0.167</td>\n",
       "      <td>21</td>\n",
       "      <td>0</td>\n",
       "    </tr>\n",
       "    <tr>\n",
       "      <th>4</th>\n",
       "      <td>0</td>\n",
       "      <td>137</td>\n",
       "      <td>40</td>\n",
       "      <td>35</td>\n",
       "      <td>168</td>\n",
       "      <td>43.1</td>\n",
       "      <td>2.288</td>\n",
       "      <td>33</td>\n",
       "      <td>1</td>\n",
       "    </tr>\n",
       "  </tbody>\n",
       "</table>\n",
       "</div>"
      ],
      "text/plain": [
       "   pregnancies  glucose  diastolic  triceps  insulin   bmi    dpf  age  \\\n",
       "0            6      148         72       35        0  33.6  0.627   50   \n",
       "1            1       85         66       29        0  26.6  0.351   31   \n",
       "2            8      183         64        0        0  23.3  0.672   32   \n",
       "3            1       89         66       23       94  28.1  0.167   21   \n",
       "4            0      137         40       35      168  43.1  2.288   33   \n",
       "\n",
       "   diabetes  \n",
       "0         1  \n",
       "1         0  \n",
       "2         1  \n",
       "3         0  \n",
       "4         1  "
      ]
     },
     "execution_count": 51,
     "metadata": {},
     "output_type": "execute_result"
    }
   ],
   "source": [
    "df = pd.read_csv(\"C:/Users/Gaming/Desktop/diabeitsPrediction/dataset_model/Diabetes.csv\")\n",
    "df.head()"
   ]
  },
  {
   "cell_type": "code",
   "execution_count": 52,
   "id": "053b3470-31e3-4593-8447-08e2400a37b8",
   "metadata": {},
   "outputs": [
    {
     "name": "stdout",
     "output_type": "stream",
     "text": [
      "<class 'pandas.core.frame.DataFrame'>\n",
      "RangeIndex: 768 entries, 0 to 767\n",
      "Data columns (total 9 columns):\n",
      " #   Column       Non-Null Count  Dtype  \n",
      "---  ------       --------------  -----  \n",
      " 0   pregnancies  768 non-null    int64  \n",
      " 1   glucose      768 non-null    int64  \n",
      " 2   diastolic    768 non-null    int64  \n",
      " 3   triceps      768 non-null    int64  \n",
      " 4   insulin      768 non-null    int64  \n",
      " 5   bmi          768 non-null    float64\n",
      " 6   dpf          768 non-null    float64\n",
      " 7   age          768 non-null    int64  \n",
      " 8   diabetes     768 non-null    int64  \n",
      "dtypes: float64(2), int64(7)\n",
      "memory usage: 54.1 KB\n"
     ]
    }
   ],
   "source": [
    "df.info()"
   ]
  },
  {
   "cell_type": "code",
   "execution_count": 53,
   "id": "735e8ff1-caa5-4de3-a03d-afe3b4c113c7",
   "metadata": {},
   "outputs": [
    {
     "data": {
      "text/html": [
       "<div>\n",
       "<style scoped>\n",
       "    .dataframe tbody tr th:only-of-type {\n",
       "        vertical-align: middle;\n",
       "    }\n",
       "\n",
       "    .dataframe tbody tr th {\n",
       "        vertical-align: top;\n",
       "    }\n",
       "\n",
       "    .dataframe thead th {\n",
       "        text-align: right;\n",
       "    }\n",
       "</style>\n",
       "<table border=\"1\" class=\"dataframe\">\n",
       "  <thead>\n",
       "    <tr style=\"text-align: right;\">\n",
       "      <th></th>\n",
       "      <th>pregnancies</th>\n",
       "      <th>glucose</th>\n",
       "      <th>diastolic</th>\n",
       "      <th>triceps</th>\n",
       "      <th>insulin</th>\n",
       "      <th>bmi</th>\n",
       "      <th>dpf</th>\n",
       "      <th>age</th>\n",
       "      <th>diabetes</th>\n",
       "    </tr>\n",
       "  </thead>\n",
       "  <tbody>\n",
       "    <tr>\n",
       "      <th>count</th>\n",
       "      <td>768.000000</td>\n",
       "      <td>768.000000</td>\n",
       "      <td>768.000000</td>\n",
       "      <td>768.000000</td>\n",
       "      <td>768.000000</td>\n",
       "      <td>768.000000</td>\n",
       "      <td>768.000000</td>\n",
       "      <td>768.000000</td>\n",
       "      <td>768.000000</td>\n",
       "    </tr>\n",
       "    <tr>\n",
       "      <th>mean</th>\n",
       "      <td>3.845052</td>\n",
       "      <td>120.894531</td>\n",
       "      <td>69.105469</td>\n",
       "      <td>20.536458</td>\n",
       "      <td>79.799479</td>\n",
       "      <td>31.992578</td>\n",
       "      <td>0.471876</td>\n",
       "      <td>33.240885</td>\n",
       "      <td>0.348958</td>\n",
       "    </tr>\n",
       "    <tr>\n",
       "      <th>std</th>\n",
       "      <td>3.369578</td>\n",
       "      <td>31.972618</td>\n",
       "      <td>19.355807</td>\n",
       "      <td>15.952218</td>\n",
       "      <td>115.244002</td>\n",
       "      <td>7.884160</td>\n",
       "      <td>0.331329</td>\n",
       "      <td>11.760232</td>\n",
       "      <td>0.476951</td>\n",
       "    </tr>\n",
       "    <tr>\n",
       "      <th>min</th>\n",
       "      <td>0.000000</td>\n",
       "      <td>0.000000</td>\n",
       "      <td>0.000000</td>\n",
       "      <td>0.000000</td>\n",
       "      <td>0.000000</td>\n",
       "      <td>0.000000</td>\n",
       "      <td>0.078000</td>\n",
       "      <td>21.000000</td>\n",
       "      <td>0.000000</td>\n",
       "    </tr>\n",
       "    <tr>\n",
       "      <th>25%</th>\n",
       "      <td>1.000000</td>\n",
       "      <td>99.000000</td>\n",
       "      <td>62.000000</td>\n",
       "      <td>0.000000</td>\n",
       "      <td>0.000000</td>\n",
       "      <td>27.300000</td>\n",
       "      <td>0.243750</td>\n",
       "      <td>24.000000</td>\n",
       "      <td>0.000000</td>\n",
       "    </tr>\n",
       "    <tr>\n",
       "      <th>50%</th>\n",
       "      <td>3.000000</td>\n",
       "      <td>117.000000</td>\n",
       "      <td>72.000000</td>\n",
       "      <td>23.000000</td>\n",
       "      <td>30.500000</td>\n",
       "      <td>32.000000</td>\n",
       "      <td>0.372500</td>\n",
       "      <td>29.000000</td>\n",
       "      <td>0.000000</td>\n",
       "    </tr>\n",
       "    <tr>\n",
       "      <th>75%</th>\n",
       "      <td>6.000000</td>\n",
       "      <td>140.250000</td>\n",
       "      <td>80.000000</td>\n",
       "      <td>32.000000</td>\n",
       "      <td>127.250000</td>\n",
       "      <td>36.600000</td>\n",
       "      <td>0.626250</td>\n",
       "      <td>41.000000</td>\n",
       "      <td>1.000000</td>\n",
       "    </tr>\n",
       "    <tr>\n",
       "      <th>max</th>\n",
       "      <td>17.000000</td>\n",
       "      <td>199.000000</td>\n",
       "      <td>122.000000</td>\n",
       "      <td>99.000000</td>\n",
       "      <td>846.000000</td>\n",
       "      <td>67.100000</td>\n",
       "      <td>2.420000</td>\n",
       "      <td>81.000000</td>\n",
       "      <td>1.000000</td>\n",
       "    </tr>\n",
       "  </tbody>\n",
       "</table>\n",
       "</div>"
      ],
      "text/plain": [
       "       pregnancies     glucose   diastolic     triceps     insulin  \\\n",
       "count   768.000000  768.000000  768.000000  768.000000  768.000000   \n",
       "mean      3.845052  120.894531   69.105469   20.536458   79.799479   \n",
       "std       3.369578   31.972618   19.355807   15.952218  115.244002   \n",
       "min       0.000000    0.000000    0.000000    0.000000    0.000000   \n",
       "25%       1.000000   99.000000   62.000000    0.000000    0.000000   \n",
       "50%       3.000000  117.000000   72.000000   23.000000   30.500000   \n",
       "75%       6.000000  140.250000   80.000000   32.000000  127.250000   \n",
       "max      17.000000  199.000000  122.000000   99.000000  846.000000   \n",
       "\n",
       "              bmi         dpf         age    diabetes  \n",
       "count  768.000000  768.000000  768.000000  768.000000  \n",
       "mean    31.992578    0.471876   33.240885    0.348958  \n",
       "std      7.884160    0.331329   11.760232    0.476951  \n",
       "min      0.000000    0.078000   21.000000    0.000000  \n",
       "25%     27.300000    0.243750   24.000000    0.000000  \n",
       "50%     32.000000    0.372500   29.000000    0.000000  \n",
       "75%     36.600000    0.626250   41.000000    1.000000  \n",
       "max     67.100000    2.420000   81.000000    1.000000  "
      ]
     },
     "execution_count": 53,
     "metadata": {},
     "output_type": "execute_result"
    }
   ],
   "source": [
    "df.describe()"
   ]
  },
  {
   "cell_type": "code",
   "execution_count": 54,
   "id": "308379cc-ea5a-4b58-a48e-ae10c1145314",
   "metadata": {},
   "outputs": [
    {
     "data": {
      "text/plain": [
       "Index(['pregnancies', 'glucose', 'diastolic', 'triceps', 'insulin', 'bmi',\n",
       "       'dpf', 'age', 'diabetes'],\n",
       "      dtype='object')"
      ]
     },
     "execution_count": 54,
     "metadata": {},
     "output_type": "execute_result"
    }
   ],
   "source": [
    "df.columns"
   ]
  },
  {
   "cell_type": "code",
   "execution_count": 55,
   "id": "c8f1b59b-ad82-4f78-ae1d-dca29e55358a",
   "metadata": {},
   "outputs": [
    {
     "data": {
      "text/plain": [
       "(768, 9)"
      ]
     },
     "execution_count": 55,
     "metadata": {},
     "output_type": "execute_result"
    }
   ],
   "source": [
    "df.shape"
   ]
  },
  {
   "cell_type": "code",
   "execution_count": 56,
   "id": "43a2251a-5f0e-4fbc-aafc-2b253eb05c08",
   "metadata": {},
   "outputs": [
    {
     "data": {
      "text/plain": [
       "diabetes\n",
       "0    500\n",
       "1    268\n",
       "Name: count, dtype: int64"
      ]
     },
     "execution_count": 56,
     "metadata": {},
     "output_type": "execute_result"
    }
   ],
   "source": [
    "df['diabetes'].value_counts()"
   ]
  },
  {
   "cell_type": "code",
   "execution_count": 57,
   "id": "18641576-ec10-4298-9867-d1e993f7c2ad",
   "metadata": {},
   "outputs": [
    {
     "data": {
      "text/html": [
       "<div>\n",
       "<style scoped>\n",
       "    .dataframe tbody tr th:only-of-type {\n",
       "        vertical-align: middle;\n",
       "    }\n",
       "\n",
       "    .dataframe tbody tr th {\n",
       "        vertical-align: top;\n",
       "    }\n",
       "\n",
       "    .dataframe thead th {\n",
       "        text-align: right;\n",
       "    }\n",
       "</style>\n",
       "<table border=\"1\" class=\"dataframe\">\n",
       "  <thead>\n",
       "    <tr style=\"text-align: right;\">\n",
       "      <th></th>\n",
       "      <th>pregnancies</th>\n",
       "      <th>glucose</th>\n",
       "      <th>diastolic</th>\n",
       "      <th>triceps</th>\n",
       "      <th>insulin</th>\n",
       "      <th>bmi</th>\n",
       "      <th>dpf</th>\n",
       "      <th>age</th>\n",
       "    </tr>\n",
       "    <tr>\n",
       "      <th>diabetes</th>\n",
       "      <th></th>\n",
       "      <th></th>\n",
       "      <th></th>\n",
       "      <th></th>\n",
       "      <th></th>\n",
       "      <th></th>\n",
       "      <th></th>\n",
       "      <th></th>\n",
       "    </tr>\n",
       "  </thead>\n",
       "  <tbody>\n",
       "    <tr>\n",
       "      <th>0</th>\n",
       "      <td>3.298000</td>\n",
       "      <td>109.980000</td>\n",
       "      <td>68.184000</td>\n",
       "      <td>19.664000</td>\n",
       "      <td>68.792000</td>\n",
       "      <td>30.304200</td>\n",
       "      <td>0.429734</td>\n",
       "      <td>31.190000</td>\n",
       "    </tr>\n",
       "    <tr>\n",
       "      <th>1</th>\n",
       "      <td>4.865672</td>\n",
       "      <td>141.257463</td>\n",
       "      <td>70.824627</td>\n",
       "      <td>22.164179</td>\n",
       "      <td>100.335821</td>\n",
       "      <td>35.142537</td>\n",
       "      <td>0.550500</td>\n",
       "      <td>37.067164</td>\n",
       "    </tr>\n",
       "  </tbody>\n",
       "</table>\n",
       "</div>"
      ],
      "text/plain": [
       "          pregnancies     glucose  diastolic    triceps     insulin  \\\n",
       "diabetes                                                              \n",
       "0            3.298000  109.980000  68.184000  19.664000   68.792000   \n",
       "1            4.865672  141.257463  70.824627  22.164179  100.335821   \n",
       "\n",
       "                bmi       dpf        age  \n",
       "diabetes                                  \n",
       "0         30.304200  0.429734  31.190000  \n",
       "1         35.142537  0.550500  37.067164  "
      ]
     },
     "execution_count": 57,
     "metadata": {},
     "output_type": "execute_result"
    }
   ],
   "source": [
    "df.groupby('diabetes').mean()"
   ]
  },
  {
   "cell_type": "code",
   "execution_count": 58,
   "id": "d6d70edf-4960-4e66-8a6d-23c9ab699d5f",
   "metadata": {},
   "outputs": [],
   "source": [
    "y= df['diabetes']"
   ]
  },
  {
   "cell_type": "code",
   "execution_count": 59,
   "id": "0393d294-3830-470c-b9aa-fe6cd91308e7",
   "metadata": {},
   "outputs": [
    {
     "data": {
      "text/plain": [
       "(768,)"
      ]
     },
     "execution_count": 59,
     "metadata": {},
     "output_type": "execute_result"
    }
   ],
   "source": [
    "y.shape"
   ]
  },
  {
   "cell_type": "code",
   "execution_count": 60,
   "id": "90eb138b-4768-4115-af7f-2170b7abc9f1",
   "metadata": {},
   "outputs": [
    {
     "data": {
      "text/plain": [
       "0      1\n",
       "1      0\n",
       "2      1\n",
       "3      0\n",
       "4      1\n",
       "      ..\n",
       "763    0\n",
       "764    0\n",
       "765    0\n",
       "766    1\n",
       "767    0\n",
       "Name: diabetes, Length: 768, dtype: int64"
      ]
     },
     "execution_count": 60,
     "metadata": {},
     "output_type": "execute_result"
    }
   ],
   "source": [
    "y"
   ]
  },
  {
   "cell_type": "code",
   "execution_count": 61,
   "id": "3a205872-0e79-4e05-a00d-07b408f8e369",
   "metadata": {},
   "outputs": [],
   "source": [
    "X = df[['pregnancies', 'glucose','diastolic','triceps','insulin','bmi','dpf','age']]"
   ]
  },
  {
   "cell_type": "code",
   "execution_count": 63,
   "id": "9d8d3cef-34c9-4acc-8a6a-ee69e9343a89",
   "metadata": {},
   "outputs": [
    {
     "data": {
      "text/plain": [
       "(768, 8)"
      ]
     },
     "execution_count": 63,
     "metadata": {},
     "output_type": "execute_result"
    }
   ],
   "source": [
    "X.shape"
   ]
  },
  {
   "cell_type": "code",
   "execution_count": 64,
   "id": "96dafdb5-7115-42ec-be24-5f65ce01a9e7",
   "metadata": {},
   "outputs": [
    {
     "data": {
      "text/html": [
       "<div>\n",
       "<style scoped>\n",
       "    .dataframe tbody tr th:only-of-type {\n",
       "        vertical-align: middle;\n",
       "    }\n",
       "\n",
       "    .dataframe tbody tr th {\n",
       "        vertical-align: top;\n",
       "    }\n",
       "\n",
       "    .dataframe thead th {\n",
       "        text-align: right;\n",
       "    }\n",
       "</style>\n",
       "<table border=\"1\" class=\"dataframe\">\n",
       "  <thead>\n",
       "    <tr style=\"text-align: right;\">\n",
       "      <th></th>\n",
       "      <th>pregnancies</th>\n",
       "      <th>glucose</th>\n",
       "      <th>diastolic</th>\n",
       "      <th>triceps</th>\n",
       "      <th>insulin</th>\n",
       "      <th>bmi</th>\n",
       "      <th>dpf</th>\n",
       "      <th>age</th>\n",
       "    </tr>\n",
       "  </thead>\n",
       "  <tbody>\n",
       "    <tr>\n",
       "      <th>0</th>\n",
       "      <td>6</td>\n",
       "      <td>148</td>\n",
       "      <td>72</td>\n",
       "      <td>35</td>\n",
       "      <td>0</td>\n",
       "      <td>33.6</td>\n",
       "      <td>0.627</td>\n",
       "      <td>50</td>\n",
       "    </tr>\n",
       "    <tr>\n",
       "      <th>1</th>\n",
       "      <td>1</td>\n",
       "      <td>85</td>\n",
       "      <td>66</td>\n",
       "      <td>29</td>\n",
       "      <td>0</td>\n",
       "      <td>26.6</td>\n",
       "      <td>0.351</td>\n",
       "      <td>31</td>\n",
       "    </tr>\n",
       "    <tr>\n",
       "      <th>2</th>\n",
       "      <td>8</td>\n",
       "      <td>183</td>\n",
       "      <td>64</td>\n",
       "      <td>0</td>\n",
       "      <td>0</td>\n",
       "      <td>23.3</td>\n",
       "      <td>0.672</td>\n",
       "      <td>32</td>\n",
       "    </tr>\n",
       "    <tr>\n",
       "      <th>3</th>\n",
       "      <td>1</td>\n",
       "      <td>89</td>\n",
       "      <td>66</td>\n",
       "      <td>23</td>\n",
       "      <td>94</td>\n",
       "      <td>28.1</td>\n",
       "      <td>0.167</td>\n",
       "      <td>21</td>\n",
       "    </tr>\n",
       "    <tr>\n",
       "      <th>4</th>\n",
       "      <td>0</td>\n",
       "      <td>137</td>\n",
       "      <td>40</td>\n",
       "      <td>35</td>\n",
       "      <td>168</td>\n",
       "      <td>43.1</td>\n",
       "      <td>2.288</td>\n",
       "      <td>33</td>\n",
       "    </tr>\n",
       "    <tr>\n",
       "      <th>...</th>\n",
       "      <td>...</td>\n",
       "      <td>...</td>\n",
       "      <td>...</td>\n",
       "      <td>...</td>\n",
       "      <td>...</td>\n",
       "      <td>...</td>\n",
       "      <td>...</td>\n",
       "      <td>...</td>\n",
       "    </tr>\n",
       "    <tr>\n",
       "      <th>763</th>\n",
       "      <td>10</td>\n",
       "      <td>101</td>\n",
       "      <td>76</td>\n",
       "      <td>48</td>\n",
       "      <td>180</td>\n",
       "      <td>32.9</td>\n",
       "      <td>0.171</td>\n",
       "      <td>63</td>\n",
       "    </tr>\n",
       "    <tr>\n",
       "      <th>764</th>\n",
       "      <td>2</td>\n",
       "      <td>122</td>\n",
       "      <td>70</td>\n",
       "      <td>27</td>\n",
       "      <td>0</td>\n",
       "      <td>36.8</td>\n",
       "      <td>0.340</td>\n",
       "      <td>27</td>\n",
       "    </tr>\n",
       "    <tr>\n",
       "      <th>765</th>\n",
       "      <td>5</td>\n",
       "      <td>121</td>\n",
       "      <td>72</td>\n",
       "      <td>23</td>\n",
       "      <td>112</td>\n",
       "      <td>26.2</td>\n",
       "      <td>0.245</td>\n",
       "      <td>30</td>\n",
       "    </tr>\n",
       "    <tr>\n",
       "      <th>766</th>\n",
       "      <td>1</td>\n",
       "      <td>126</td>\n",
       "      <td>60</td>\n",
       "      <td>0</td>\n",
       "      <td>0</td>\n",
       "      <td>30.1</td>\n",
       "      <td>0.349</td>\n",
       "      <td>47</td>\n",
       "    </tr>\n",
       "    <tr>\n",
       "      <th>767</th>\n",
       "      <td>1</td>\n",
       "      <td>93</td>\n",
       "      <td>70</td>\n",
       "      <td>31</td>\n",
       "      <td>0</td>\n",
       "      <td>30.4</td>\n",
       "      <td>0.315</td>\n",
       "      <td>23</td>\n",
       "    </tr>\n",
       "  </tbody>\n",
       "</table>\n",
       "<p>768 rows × 8 columns</p>\n",
       "</div>"
      ],
      "text/plain": [
       "     pregnancies  glucose  diastolic  triceps  insulin   bmi    dpf  age\n",
       "0              6      148         72       35        0  33.6  0.627   50\n",
       "1              1       85         66       29        0  26.6  0.351   31\n",
       "2              8      183         64        0        0  23.3  0.672   32\n",
       "3              1       89         66       23       94  28.1  0.167   21\n",
       "4              0      137         40       35      168  43.1  2.288   33\n",
       "..           ...      ...        ...      ...      ...   ...    ...  ...\n",
       "763           10      101         76       48      180  32.9  0.171   63\n",
       "764            2      122         70       27        0  36.8  0.340   27\n",
       "765            5      121         72       23      112  26.2  0.245   30\n",
       "766            1      126         60        0        0  30.1  0.349   47\n",
       "767            1       93         70       31        0  30.4  0.315   23\n",
       "\n",
       "[768 rows x 8 columns]"
      ]
     },
     "execution_count": 64,
     "metadata": {},
     "output_type": "execute_result"
    }
   ],
   "source": [
    "X"
   ]
  },
  {
   "cell_type": "code",
   "execution_count": 65,
   "id": "09406e01-6d47-4b76-bfc8-ba3d77936708",
   "metadata": {},
   "outputs": [],
   "source": [
    "from sklearn.preprocessing import MinMaxScaler"
   ]
  },
  {
   "cell_type": "code",
   "execution_count": 66,
   "id": "87e28e36-f46b-4118-9670-f2c133bd92c2",
   "metadata": {},
   "outputs": [],
   "source": [
    "mm = MinMaxScaler()"
   ]
  },
  {
   "cell_type": "code",
   "execution_count": 67,
   "id": "ab209185-7474-4322-aa97-796fe66968f7",
   "metadata": {},
   "outputs": [],
   "source": [
    "X = mm.fit_transform(X)"
   ]
  },
  {
   "cell_type": "code",
   "execution_count": 68,
   "id": "9d0334c2-e9ab-4262-8eb6-26731c13a7d6",
   "metadata": {},
   "outputs": [
    {
     "data": {
      "text/plain": [
       "array([[0.35294118, 0.74371859, 0.59016393, ..., 0.50074516, 0.23441503,\n",
       "        0.48333333],\n",
       "       [0.05882353, 0.42713568, 0.54098361, ..., 0.39642325, 0.11656704,\n",
       "        0.16666667],\n",
       "       [0.47058824, 0.91959799, 0.52459016, ..., 0.34724292, 0.25362938,\n",
       "        0.18333333],\n",
       "       ...,\n",
       "       [0.29411765, 0.6080402 , 0.59016393, ..., 0.390462  , 0.07130658,\n",
       "        0.15      ],\n",
       "       [0.05882353, 0.63316583, 0.49180328, ..., 0.4485842 , 0.11571307,\n",
       "        0.43333333],\n",
       "       [0.05882353, 0.46733668, 0.57377049, ..., 0.45305514, 0.10119556,\n",
       "        0.03333333]])"
      ]
     },
     "execution_count": 68,
     "metadata": {},
     "output_type": "execute_result"
    }
   ],
   "source": [
    "X"
   ]
  },
  {
   "cell_type": "code",
   "execution_count": 69,
   "id": "45c5c3d9-dc43-4f53-9e13-e8675de975ab",
   "metadata": {},
   "outputs": [],
   "source": [
    "from sklearn.model_selection import train_test_split"
   ]
  },
  {
   "cell_type": "code",
   "execution_count": 70,
   "id": "fe708977-daf7-44a7-86de-949d0130848d",
   "metadata": {},
   "outputs": [],
   "source": [
    "X_train,X_test,y_train,y_test = train_test_split(X,y, test_size = 0.3, stratify =  y, random_state =2529)"
   ]
  },
  {
   "cell_type": "code",
   "execution_count": 71,
   "id": "2d026779-cd49-49ec-aede-90e90990e8de",
   "metadata": {},
   "outputs": [
    {
     "data": {
      "text/plain": [
       "((537, 8), (231, 8), (537,), (231,))"
      ]
     },
     "execution_count": 71,
     "metadata": {},
     "output_type": "execute_result"
    }
   ],
   "source": [
    "X_train.shape, X_test.shape, y_train.shape, y_test.shape"
   ]
  },
  {
   "cell_type": "code",
   "execution_count": 72,
   "id": "e9d0d521-3e99-4e03-8ce8-3cb3cf91bd9c",
   "metadata": {},
   "outputs": [],
   "source": [
    "from sklearn.linear_model import LogisticRegression\n"
   ]
  },
  {
   "cell_type": "code",
   "execution_count": 73,
   "id": "b5073cf7-383d-4152-84b7-f7a14319fd01",
   "metadata": {},
   "outputs": [],
   "source": [
    "Ir = LogisticRegression()"
   ]
  },
  {
   "cell_type": "code",
   "execution_count": 74,
   "id": "81420457-339a-42ab-b131-8012ef840a4c",
   "metadata": {},
   "outputs": [
    {
     "data": {
      "text/html": [
       "<style>#sk-container-id-2 {color: black;}#sk-container-id-2 pre{padding: 0;}#sk-container-id-2 div.sk-toggleable {background-color: white;}#sk-container-id-2 label.sk-toggleable__label {cursor: pointer;display: block;width: 100%;margin-bottom: 0;padding: 0.3em;box-sizing: border-box;text-align: center;}#sk-container-id-2 label.sk-toggleable__label-arrow:before {content: \"▸\";float: left;margin-right: 0.25em;color: #696969;}#sk-container-id-2 label.sk-toggleable__label-arrow:hover:before {color: black;}#sk-container-id-2 div.sk-estimator:hover label.sk-toggleable__label-arrow:before {color: black;}#sk-container-id-2 div.sk-toggleable__content {max-height: 0;max-width: 0;overflow: hidden;text-align: left;background-color: #f0f8ff;}#sk-container-id-2 div.sk-toggleable__content pre {margin: 0.2em;color: black;border-radius: 0.25em;background-color: #f0f8ff;}#sk-container-id-2 input.sk-toggleable__control:checked~div.sk-toggleable__content {max-height: 200px;max-width: 100%;overflow: auto;}#sk-container-id-2 input.sk-toggleable__control:checked~label.sk-toggleable__label-arrow:before {content: \"▾\";}#sk-container-id-2 div.sk-estimator input.sk-toggleable__control:checked~label.sk-toggleable__label {background-color: #d4ebff;}#sk-container-id-2 div.sk-label input.sk-toggleable__control:checked~label.sk-toggleable__label {background-color: #d4ebff;}#sk-container-id-2 input.sk-hidden--visually {border: 0;clip: rect(1px 1px 1px 1px);clip: rect(1px, 1px, 1px, 1px);height: 1px;margin: -1px;overflow: hidden;padding: 0;position: absolute;width: 1px;}#sk-container-id-2 div.sk-estimator {font-family: monospace;background-color: #f0f8ff;border: 1px dotted black;border-radius: 0.25em;box-sizing: border-box;margin-bottom: 0.5em;}#sk-container-id-2 div.sk-estimator:hover {background-color: #d4ebff;}#sk-container-id-2 div.sk-parallel-item::after {content: \"\";width: 100%;border-bottom: 1px solid gray;flex-grow: 1;}#sk-container-id-2 div.sk-label:hover label.sk-toggleable__label {background-color: #d4ebff;}#sk-container-id-2 div.sk-serial::before {content: \"\";position: absolute;border-left: 1px solid gray;box-sizing: border-box;top: 0;bottom: 0;left: 50%;z-index: 0;}#sk-container-id-2 div.sk-serial {display: flex;flex-direction: column;align-items: center;background-color: white;padding-right: 0.2em;padding-left: 0.2em;position: relative;}#sk-container-id-2 div.sk-item {position: relative;z-index: 1;}#sk-container-id-2 div.sk-parallel {display: flex;align-items: stretch;justify-content: center;background-color: white;position: relative;}#sk-container-id-2 div.sk-item::before, #sk-container-id-2 div.sk-parallel-item::before {content: \"\";position: absolute;border-left: 1px solid gray;box-sizing: border-box;top: 0;bottom: 0;left: 50%;z-index: -1;}#sk-container-id-2 div.sk-parallel-item {display: flex;flex-direction: column;z-index: 1;position: relative;background-color: white;}#sk-container-id-2 div.sk-parallel-item:first-child::after {align-self: flex-end;width: 50%;}#sk-container-id-2 div.sk-parallel-item:last-child::after {align-self: flex-start;width: 50%;}#sk-container-id-2 div.sk-parallel-item:only-child::after {width: 0;}#sk-container-id-2 div.sk-dashed-wrapped {border: 1px dashed gray;margin: 0 0.4em 0.5em 0.4em;box-sizing: border-box;padding-bottom: 0.4em;background-color: white;}#sk-container-id-2 div.sk-label label {font-family: monospace;font-weight: bold;display: inline-block;line-height: 1.2em;}#sk-container-id-2 div.sk-label-container {text-align: center;}#sk-container-id-2 div.sk-container {/* jupyter's `normalize.less` sets `[hidden] { display: none; }` but bootstrap.min.css set `[hidden] { display: none !important; }` so we also need the `!important` here to be able to override the default hidden behavior on the sphinx rendered scikit-learn.org. See: https://github.com/scikit-learn/scikit-learn/issues/21755 */display: inline-block !important;position: relative;}#sk-container-id-2 div.sk-text-repr-fallback {display: none;}</style><div id=\"sk-container-id-2\" class=\"sk-top-container\"><div class=\"sk-text-repr-fallback\"><pre>LogisticRegression()</pre><b>In a Jupyter environment, please rerun this cell to show the HTML representation or trust the notebook. <br />On GitHub, the HTML representation is unable to render, please try loading this page with nbviewer.org.</b></div><div class=\"sk-container\" hidden><div class=\"sk-item\"><div class=\"sk-estimator sk-toggleable\"><input class=\"sk-toggleable__control sk-hidden--visually\" id=\"sk-estimator-id-2\" type=\"checkbox\" checked><label for=\"sk-estimator-id-2\" class=\"sk-toggleable__label sk-toggleable__label-arrow\">LogisticRegression</label><div class=\"sk-toggleable__content\"><pre>LogisticRegression()</pre></div></div></div></div></div>"
      ],
      "text/plain": [
       "LogisticRegression()"
      ]
     },
     "execution_count": 74,
     "metadata": {},
     "output_type": "execute_result"
    }
   ],
   "source": [
    "Ir.fit(X_train,y_train)"
   ]
  },
  {
   "cell_type": "code",
   "execution_count": 75,
   "id": "008ec4e9-3f9c-43e1-8eea-ddf67334e13b",
   "metadata": {},
   "outputs": [],
   "source": [
    "y_pred =Ir.predict(X_test)"
   ]
  },
  {
   "cell_type": "code",
   "execution_count": 76,
   "id": "3896f21f-395d-420f-b110-3612f06b24cd",
   "metadata": {},
   "outputs": [
    {
     "data": {
      "text/plain": [
       "(231,)"
      ]
     },
     "execution_count": 76,
     "metadata": {},
     "output_type": "execute_result"
    }
   ],
   "source": [
    "y_pred.shape\n"
   ]
  },
  {
   "cell_type": "code",
   "execution_count": 77,
   "id": "e9c50ef9-139c-40ba-aef2-3b3ff818825c",
   "metadata": {},
   "outputs": [
    {
     "data": {
      "text/plain": [
       "array([0, 0, 0, 0, 0, 0, 1, 0, 0, 0, 0, 1, 0, 0, 0, 0, 1, 0, 0, 0, 0, 0,\n",
       "       0, 0, 0, 1, 0, 0, 0, 1, 0, 1, 0, 0, 0, 0, 0, 0, 0, 0, 1, 1, 0, 1,\n",
       "       1, 1, 1, 0, 0, 1, 0, 0, 0, 0, 1, 1, 0, 0, 0, 0, 0, 1, 0, 1, 0, 0,\n",
       "       1, 0, 1, 0, 0, 1, 0, 1, 0, 0, 0, 1, 0, 0, 0, 0, 0, 0, 1, 0, 0, 0,\n",
       "       0, 0, 0, 1, 0, 0, 0, 0, 0, 0, 0, 0, 1, 0, 0, 0, 0, 1, 1, 0, 0, 1,\n",
       "       0, 0, 0, 1, 0, 0, 0, 0, 1, 0, 1, 0, 0, 0, 0, 1, 0, 1, 1, 0, 0, 0,\n",
       "       0, 0, 0, 0, 0, 0, 1, 0, 0, 0, 0, 0, 0, 1, 1, 0, 1, 1, 0, 0, 0, 0,\n",
       "       0, 0, 0, 0, 1, 0, 0, 1, 0, 1, 0, 0, 1, 0, 1, 0, 0, 0, 0, 0, 1, 0,\n",
       "       0, 0, 1, 0, 0, 0, 1, 1, 1, 0, 0, 0, 0, 0, 0, 0, 0, 0, 0, 0, 1, 1,\n",
       "       0, 0, 0, 0, 1, 0, 0, 0, 0, 0, 0, 0, 0, 0, 0, 1, 0, 1, 1, 0, 0, 1,\n",
       "       1, 0, 0, 0, 0, 0, 0, 0, 1, 0, 0], dtype=int64)"
      ]
     },
     "execution_count": 77,
     "metadata": {},
     "output_type": "execute_result"
    }
   ],
   "source": [
    "y_pred"
   ]
  },
  {
   "cell_type": "code",
   "execution_count": 78,
   "id": "cc9f8a8d-a3b2-4504-ba1e-e7aaae516a64",
   "metadata": {},
   "outputs": [
    {
     "data": {
      "text/plain": [
       "array([[0.71101198, 0.28898802],\n",
       "       [0.80246044, 0.19753956],\n",
       "       [0.50085081, 0.49914919],\n",
       "       [0.8745601 , 0.1254399 ],\n",
       "       [0.84313967, 0.15686033],\n",
       "       [0.72965238, 0.27034762],\n",
       "       [0.32611128, 0.67388872],\n",
       "       [0.82905388, 0.17094612],\n",
       "       [0.57764733, 0.42235267],\n",
       "       [0.5794767 , 0.4205233 ],\n",
       "       [0.90475455, 0.09524545],\n",
       "       [0.42428281, 0.57571719],\n",
       "       [0.81659611, 0.18340389],\n",
       "       [0.86057018, 0.13942982],\n",
       "       [0.55629153, 0.44370847],\n",
       "       [0.83208198, 0.16791802],\n",
       "       [0.40636481, 0.59363519],\n",
       "       [0.8430081 , 0.1569919 ],\n",
       "       [0.6035823 , 0.3964177 ],\n",
       "       [0.51982645, 0.48017355],\n",
       "       [0.65174255, 0.34825745],\n",
       "       [0.89662971, 0.10337029],\n",
       "       [0.88362346, 0.11637654],\n",
       "       [0.50529753, 0.49470247],\n",
       "       [0.74048922, 0.25951078],\n",
       "       [0.38010129, 0.61989871],\n",
       "       [0.86743064, 0.13256936],\n",
       "       [0.63051126, 0.36948874],\n",
       "       [0.54593476, 0.45406524],\n",
       "       [0.16753486, 0.83246514],\n",
       "       [0.62023267, 0.37976733],\n",
       "       [0.45959131, 0.54040869],\n",
       "       [0.75494925, 0.24505075],\n",
       "       [0.71542708, 0.28457292],\n",
       "       [0.75628148, 0.24371852],\n",
       "       [0.77697399, 0.22302601],\n",
       "       [0.67351753, 0.32648247],\n",
       "       [0.79929534, 0.20070466],\n",
       "       [0.74875692, 0.25124308],\n",
       "       [0.54844936, 0.45155064],\n",
       "       [0.32997346, 0.67002654],\n",
       "       [0.22941801, 0.77058199],\n",
       "       [0.7448794 , 0.2551206 ],\n",
       "       [0.34550793, 0.65449207],\n",
       "       [0.18608056, 0.81391944],\n",
       "       [0.26374953, 0.73625047],\n",
       "       [0.26523806, 0.73476194],\n",
       "       [0.62304765, 0.37695235],\n",
       "       [0.68999299, 0.31000701],\n",
       "       [0.45692191, 0.54307809],\n",
       "       [0.62161158, 0.37838842],\n",
       "       [0.79037029, 0.20962971],\n",
       "       [0.89387086, 0.10612914],\n",
       "       [0.73010557, 0.26989443],\n",
       "       [0.2052682 , 0.7947318 ],\n",
       "       [0.39976501, 0.60023499],\n",
       "       [0.83575072, 0.16424928],\n",
       "       [0.71212552, 0.28787448],\n",
       "       [0.63424484, 0.36575516],\n",
       "       [0.77606187, 0.22393813],\n",
       "       [0.87827346, 0.12172654],\n",
       "       [0.16798753, 0.83201247],\n",
       "       [0.70394651, 0.29605349],\n",
       "       [0.31241475, 0.68758525],\n",
       "       [0.82160552, 0.17839448],\n",
       "       [0.78797643, 0.21202357],\n",
       "       [0.42213055, 0.57786945],\n",
       "       [0.73989432, 0.26010568],\n",
       "       [0.45067804, 0.54932196],\n",
       "       [0.57268746, 0.42731254],\n",
       "       [0.64118353, 0.35881647],\n",
       "       [0.49212219, 0.50787781],\n",
       "       [0.79012394, 0.20987606],\n",
       "       [0.16338081, 0.83661919],\n",
       "       [0.86204005, 0.13795995],\n",
       "       [0.82874624, 0.17125376],\n",
       "       [0.90111805, 0.09888195],\n",
       "       [0.42743135, 0.57256865],\n",
       "       [0.85635466, 0.14364534],\n",
       "       [0.72906087, 0.27093913],\n",
       "       [0.90634904, 0.09365096],\n",
       "       [0.98369882, 0.01630118],\n",
       "       [0.82421937, 0.17578063],\n",
       "       [0.6888735 , 0.3111265 ],\n",
       "       [0.17744042, 0.82255958],\n",
       "       [0.7589098 , 0.2410902 ],\n",
       "       [0.61017603, 0.38982397],\n",
       "       [0.61159465, 0.38840535],\n",
       "       [0.68572538, 0.31427462],\n",
       "       [0.69269697, 0.30730303],\n",
       "       [0.6388536 , 0.3611464 ],\n",
       "       [0.47555626, 0.52444374],\n",
       "       [0.65691226, 0.34308774],\n",
       "       [0.80652822, 0.19347178],\n",
       "       [0.69140851, 0.30859149],\n",
       "       [0.61027426, 0.38972574],\n",
       "       [0.72605388, 0.27394612],\n",
       "       [0.9770489 , 0.0229511 ],\n",
       "       [0.89462332, 0.10537668],\n",
       "       [0.78246264, 0.21753736],\n",
       "       [0.43402032, 0.56597968],\n",
       "       [0.83264104, 0.16735896],\n",
       "       [0.63215189, 0.36784811],\n",
       "       [0.67536022, 0.32463978],\n",
       "       [0.89600414, 0.10399586],\n",
       "       [0.13939148, 0.86060852],\n",
       "       [0.27983916, 0.72016084],\n",
       "       [0.57736633, 0.42263367],\n",
       "       [0.66005884, 0.33994116],\n",
       "       [0.30464973, 0.69535027],\n",
       "       [0.82983229, 0.17016771],\n",
       "       [0.58001121, 0.41998879],\n",
       "       [0.83908052, 0.16091948],\n",
       "       [0.40127932, 0.59872068],\n",
       "       [0.78945502, 0.21054498],\n",
       "       [0.76778092, 0.23221908],\n",
       "       [0.54452662, 0.45547338],\n",
       "       [0.60544688, 0.39455312],\n",
       "       [0.44618523, 0.55381477],\n",
       "       [0.66314271, 0.33685729],\n",
       "       [0.34350835, 0.65649165],\n",
       "       [0.59893756, 0.40106244],\n",
       "       [0.62634271, 0.37365729],\n",
       "       [0.77608313, 0.22391687],\n",
       "       [0.72677569, 0.27322431],\n",
       "       [0.43937286, 0.56062714],\n",
       "       [0.54233391, 0.45766609],\n",
       "       [0.25377755, 0.74622245],\n",
       "       [0.45760086, 0.54239914],\n",
       "       [0.76638944, 0.23361056],\n",
       "       [0.83819204, 0.16180796],\n",
       "       [0.61346835, 0.38653165],\n",
       "       [0.90356153, 0.09643847],\n",
       "       [0.7710563 , 0.2289437 ],\n",
       "       [0.87707299, 0.12292701],\n",
       "       [0.65745324, 0.34254676],\n",
       "       [0.68817657, 0.31182343],\n",
       "       [0.80657917, 0.19342083],\n",
       "       [0.35894968, 0.64105032],\n",
       "       [0.68564186, 0.31435814],\n",
       "       [0.59189724, 0.40810276],\n",
       "       [0.51674781, 0.48325219],\n",
       "       [0.81212504, 0.18787496],\n",
       "       [0.67742839, 0.32257161],\n",
       "       [0.86369508, 0.13630492],\n",
       "       [0.33984056, 0.66015944],\n",
       "       [0.4070685 , 0.5929315 ],\n",
       "       [0.82227943, 0.17772057],\n",
       "       [0.44964935, 0.55035065],\n",
       "       [0.38206823, 0.61793177],\n",
       "       [0.71804561, 0.28195439],\n",
       "       [0.70550659, 0.29449341],\n",
       "       [0.79448399, 0.20551601],\n",
       "       [0.85483671, 0.14516329],\n",
       "       [0.82496174, 0.17503826],\n",
       "       [0.67704275, 0.32295725],\n",
       "       [0.77732205, 0.22267795],\n",
       "       [0.7360905 , 0.2639095 ],\n",
       "       [0.32375744, 0.67624256],\n",
       "       [0.85116323, 0.14883677],\n",
       "       [0.72815553, 0.27184447],\n",
       "       [0.21054529, 0.78945471],\n",
       "       [0.87112955, 0.12887045],\n",
       "       [0.44318092, 0.55681908],\n",
       "       [0.69806954, 0.30193046],\n",
       "       [0.52312157, 0.47687843],\n",
       "       [0.30924146, 0.69075854],\n",
       "       [0.80715878, 0.19284122],\n",
       "       [0.44392423, 0.55607577],\n",
       "       [0.94261157, 0.05738843],\n",
       "       [0.59928428, 0.40071572],\n",
       "       [0.87563746, 0.12436254],\n",
       "       [0.58419607, 0.41580393],\n",
       "       [0.52821088, 0.47178912],\n",
       "       [0.40153771, 0.59846229],\n",
       "       [0.64992152, 0.35007848],\n",
       "       [0.63185221, 0.36814779],\n",
       "       [0.93554367, 0.06445633],\n",
       "       [0.31681777, 0.68318223],\n",
       "       [0.54968842, 0.45031158],\n",
       "       [0.80598623, 0.19401377],\n",
       "       [0.77826867, 0.22173133],\n",
       "       [0.49958936, 0.50041064],\n",
       "       [0.19034282, 0.80965718],\n",
       "       [0.26781888, 0.73218112],\n",
       "       [0.57488252, 0.42511748],\n",
       "       [0.81074537, 0.18925463],\n",
       "       [0.76494237, 0.23505763],\n",
       "       [0.64189875, 0.35810125],\n",
       "       [0.80876086, 0.19123914],\n",
       "       [0.79446906, 0.20553094],\n",
       "       [0.83421376, 0.16578624],\n",
       "       [0.78869817, 0.21130183],\n",
       "       [0.87464945, 0.12535055],\n",
       "       [0.86368861, 0.13631139],\n",
       "       [0.76845696, 0.23154304],\n",
       "       [0.12908971, 0.87091029],\n",
       "       [0.49597443, 0.50402557],\n",
       "       [0.74991355, 0.25008645],\n",
       "       [0.77513673, 0.22486327],\n",
       "       [0.88357496, 0.11642504],\n",
       "       [0.83739596, 0.16260404],\n",
       "       [0.25695317, 0.74304683],\n",
       "       [0.57208324, 0.42791676],\n",
       "       [0.6407614 , 0.3592386 ],\n",
       "       [0.79016699, 0.20983301],\n",
       "       [0.70325927, 0.29674073],\n",
       "       [0.86981183, 0.13018817],\n",
       "       [0.77606671, 0.22393329],\n",
       "       [0.82007573, 0.17992427],\n",
       "       [0.79975104, 0.20024896],\n",
       "       [0.62766827, 0.37233173],\n",
       "       [0.51468356, 0.48531644],\n",
       "       [0.35427703, 0.64572297],\n",
       "       [0.76513826, 0.23486174],\n",
       "       [0.47215038, 0.52784962],\n",
       "       [0.32587725, 0.67412275],\n",
       "       [0.53598641, 0.46401359],\n",
       "       [0.74870476, 0.25129524],\n",
       "       [0.22461514, 0.77538486],\n",
       "       [0.1603111 , 0.8396889 ],\n",
       "       [0.64150356, 0.35849644],\n",
       "       [0.61681536, 0.38318464],\n",
       "       [0.74800921, 0.25199079],\n",
       "       [0.69366962, 0.30633038],\n",
       "       [0.67352852, 0.32647148],\n",
       "       [0.75764762, 0.24235238],\n",
       "       [0.89764562, 0.10235438],\n",
       "       [0.41733016, 0.58266984],\n",
       "       [0.67419914, 0.32580086],\n",
       "       [0.78132855, 0.21867145]])"
      ]
     },
     "execution_count": 78,
     "metadata": {},
     "output_type": "execute_result"
    }
   ],
   "source": [
    "Ir.predict_proba(X_test)"
   ]
  },
  {
   "cell_type": "code",
   "execution_count": 79,
   "id": "0fac2ae7-3481-4f49-a306-10cca05fc918",
   "metadata": {},
   "outputs": [],
   "source": [
    "from sklearn.metrics import confusion_matrix, classification_report"
   ]
  },
  {
   "cell_type": "raw",
   "id": "ceafa8d6-bc70-43f2-8147-f0cfd4409d0d",
   "metadata": {},
   "source": [
    "print(confusion_matrix(y_test,y_pred))"
   ]
  },
  {
   "cell_type": "code",
   "execution_count": 80,
   "id": "9103811a-9387-45a7-bd6d-0d2cf7aafb65",
   "metadata": {},
   "outputs": [
    {
     "name": "stdout",
     "output_type": "stream",
     "text": [
      "              precision    recall  f1-score   support\n",
      "\n",
      "           0       0.79      0.91      0.84       150\n",
      "           1       0.76      0.54      0.63        81\n",
      "\n",
      "    accuracy                           0.78       231\n",
      "   macro avg       0.77      0.72      0.74       231\n",
      "weighted avg       0.78      0.78      0.77       231\n",
      "\n"
     ]
    }
   ],
   "source": [
    "print(classification_report(y_test,y_pred))"
   ]
  },
  {
   "cell_type": "code",
   "execution_count": 81,
   "id": "8072480e-cf7d-41ed-ba7d-6020c1b5e0be",
   "metadata": {},
   "outputs": [],
   "source": [
    "X_new =df.sample(1)"
   ]
  },
  {
   "cell_type": "code",
   "execution_count": 82,
   "id": "3fdcd303-f76e-44ae-a859-ac95672edac7",
   "metadata": {},
   "outputs": [
    {
     "data": {
      "text/html": [
       "<div>\n",
       "<style scoped>\n",
       "    .dataframe tbody tr th:only-of-type {\n",
       "        vertical-align: middle;\n",
       "    }\n",
       "\n",
       "    .dataframe tbody tr th {\n",
       "        vertical-align: top;\n",
       "    }\n",
       "\n",
       "    .dataframe thead th {\n",
       "        text-align: right;\n",
       "    }\n",
       "</style>\n",
       "<table border=\"1\" class=\"dataframe\">\n",
       "  <thead>\n",
       "    <tr style=\"text-align: right;\">\n",
       "      <th></th>\n",
       "      <th>pregnancies</th>\n",
       "      <th>glucose</th>\n",
       "      <th>diastolic</th>\n",
       "      <th>triceps</th>\n",
       "      <th>insulin</th>\n",
       "      <th>bmi</th>\n",
       "      <th>dpf</th>\n",
       "      <th>age</th>\n",
       "      <th>diabetes</th>\n",
       "    </tr>\n",
       "  </thead>\n",
       "  <tbody>\n",
       "    <tr>\n",
       "      <th>572</th>\n",
       "      <td>3</td>\n",
       "      <td>111</td>\n",
       "      <td>58</td>\n",
       "      <td>31</td>\n",
       "      <td>44</td>\n",
       "      <td>29.5</td>\n",
       "      <td>0.43</td>\n",
       "      <td>22</td>\n",
       "      <td>0</td>\n",
       "    </tr>\n",
       "  </tbody>\n",
       "</table>\n",
       "</div>"
      ],
      "text/plain": [
       "     pregnancies  glucose  diastolic  triceps  insulin   bmi   dpf  age  \\\n",
       "572            3      111         58       31       44  29.5  0.43   22   \n",
       "\n",
       "     diabetes  \n",
       "572         0  "
      ]
     },
     "execution_count": 82,
     "metadata": {},
     "output_type": "execute_result"
    }
   ],
   "source": [
    "X_new"
   ]
  },
  {
   "cell_type": "code",
   "execution_count": 83,
   "id": "3b3b1079-8127-4442-adf8-2006105d138f",
   "metadata": {},
   "outputs": [
    {
     "data": {
      "text/plain": [
       "(1, 9)"
      ]
     },
     "execution_count": 83,
     "metadata": {},
     "output_type": "execute_result"
    }
   ],
   "source": [
    "X_new.shape"
   ]
  },
  {
   "cell_type": "code",
   "execution_count": 84,
   "id": "d91aba91-e186-4434-8140-ee06de96125b",
   "metadata": {},
   "outputs": [],
   "source": [
    "X_new = X_new.drop('diabetes',axis = 1)\n"
   ]
  },
  {
   "cell_type": "code",
   "execution_count": 85,
   "id": "fea228b2-989f-4ab3-b693-88cbd9f2deee",
   "metadata": {},
   "outputs": [
    {
     "data": {
      "text/html": [
       "<div>\n",
       "<style scoped>\n",
       "    .dataframe tbody tr th:only-of-type {\n",
       "        vertical-align: middle;\n",
       "    }\n",
       "\n",
       "    .dataframe tbody tr th {\n",
       "        vertical-align: top;\n",
       "    }\n",
       "\n",
       "    .dataframe thead th {\n",
       "        text-align: right;\n",
       "    }\n",
       "</style>\n",
       "<table border=\"1\" class=\"dataframe\">\n",
       "  <thead>\n",
       "    <tr style=\"text-align: right;\">\n",
       "      <th></th>\n",
       "      <th>pregnancies</th>\n",
       "      <th>glucose</th>\n",
       "      <th>diastolic</th>\n",
       "      <th>triceps</th>\n",
       "      <th>insulin</th>\n",
       "      <th>bmi</th>\n",
       "      <th>dpf</th>\n",
       "      <th>age</th>\n",
       "    </tr>\n",
       "  </thead>\n",
       "  <tbody>\n",
       "    <tr>\n",
       "      <th>572</th>\n",
       "      <td>3</td>\n",
       "      <td>111</td>\n",
       "      <td>58</td>\n",
       "      <td>31</td>\n",
       "      <td>44</td>\n",
       "      <td>29.5</td>\n",
       "      <td>0.43</td>\n",
       "      <td>22</td>\n",
       "    </tr>\n",
       "  </tbody>\n",
       "</table>\n",
       "</div>"
      ],
      "text/plain": [
       "     pregnancies  glucose  diastolic  triceps  insulin   bmi   dpf  age\n",
       "572            3      111         58       31       44  29.5  0.43   22"
      ]
     },
     "execution_count": 85,
     "metadata": {},
     "output_type": "execute_result"
    }
   ],
   "source": [
    "X_new"
   ]
  },
  {
   "cell_type": "code",
   "execution_count": 86,
   "id": "268b589e-ee17-429a-a0af-fca80e1f93f1",
   "metadata": {},
   "outputs": [
    {
     "data": {
      "text/plain": [
       "(1, 8)"
      ]
     },
     "execution_count": 86,
     "metadata": {},
     "output_type": "execute_result"
    }
   ],
   "source": [
    "X_new.shape"
   ]
  },
  {
   "cell_type": "code",
   "execution_count": 88,
   "id": "ab8ec742-b912-434f-85fd-a74f097ab109",
   "metadata": {},
   "outputs": [],
   "source": [
    "X_new = mm.fit_transform(X_new)"
   ]
  },
  {
   "cell_type": "code",
   "execution_count": 92,
   "id": "b521beff-0649-44d3-a411-eb2ab69ec877",
   "metadata": {},
   "outputs": [],
   "source": [
    "y_pred_new =Ir.predict(X_new)"
   ]
  },
  {
   "cell_type": "code",
   "execution_count": 90,
   "id": "801a9bd9-80a3-46c1-b318-1d4ea0e20bb8",
   "metadata": {},
   "outputs": [
    {
     "data": {
      "text/plain": [
       "array([0], dtype=int64)"
      ]
     },
     "execution_count": 90,
     "metadata": {},
     "output_type": "execute_result"
    }
   ],
   "source": [
    "y_pred_new"
   ]
  },
  {
   "cell_type": "code",
   "execution_count": 94,
   "id": "6224873b-2cb7-48b7-8cc8-b8e2ac61347f",
   "metadata": {},
   "outputs": [
    {
     "data": {
      "text/plain": [
       "array([[0.99508059, 0.00491941]])"
      ]
     },
     "execution_count": 94,
     "metadata": {},
     "output_type": "execute_result"
    }
   ],
   "source": [
    "Ir.predict_proba(X_new)"
   ]
  },
  {
   "cell_type": "code",
   "execution_count": 93,
   "id": "dfddf3aa-b5e9-4690-9e64-4960845b79be",
   "metadata": {},
   "outputs": [
    {
     "data": {
      "text/plain": [
       "0.030370370370370492"
      ]
     },
     "execution_count": 93,
     "metadata": {},
     "output_type": "execute_result"
    }
   ],
   "source": [
    "from sklearn.metrics import r2_score\n",
    "r2_score(y_test,y_pred)"
   ]
  },
  {
   "cell_type": "code",
   "execution_count": 96,
   "id": "147eda90",
   "metadata": {},
   "outputs": [],
   "source": [
    "import pickle\n",
    "with open('diabeties_prediction.pickle','wb') as f:\n",
    "    pickle.dump(Ir,f)"
   ]
  },
  {
   "cell_type": "code",
   "execution_count": null,
   "id": "2e7c8bab",
   "metadata": {},
   "outputs": [],
   "source": []
  }
 ],
 "metadata": {
  "kernelspec": {
   "display_name": "Python 3 (ipykernel)",
   "language": "python",
   "name": "python3"
  },
  "language_info": {
   "codemirror_mode": {
    "name": "ipython",
    "version": 3
   },
   "file_extension": ".py",
   "mimetype": "text/x-python",
   "name": "python",
   "nbconvert_exporter": "python",
   "pygments_lexer": "ipython3",
   "version": "3.11.5"
  }
 },
 "nbformat": 4,
 "nbformat_minor": 5
}
